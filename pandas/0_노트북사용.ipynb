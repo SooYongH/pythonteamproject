{
 "cells": [
  {
   "cell_type": "markdown",
   "id": "46ac661f",
   "metadata": {},
   "source": [
    "#노트북 사용모드"
   ]
  },
  {
   "cell_type": "markdown",
   "id": "ca6708aa",
   "metadata": {},
   "source": [
    "##셀 실행"
   ]
  },
  {
   "cell_type": "markdown",
   "id": "a6fdbc3c",
   "metadata": {},
   "source": [
    "명령모드에서의 단축키"
   ]
  },
  {
   "cell_type": "markdown",
   "id": "80c775e3",
   "metadata": {},
   "source": [
    "1. ctrl + [enter] : 편집모드-명령모드 \n",
    "    - 셀 실행, 현재 셀에 위치가 그대로\n",
    "2. shift + [enter] : 셀 실행\n",
    "    - 현재 실행된 셀 뒤에 셀이 없는 경우 새로운 셀 추가\n",
    "3.alt + [enter] : *셀실행\n",
    "    - 새로운 셀 추가\n"
   ]
  },
  {
   "cell_type": "markdown",
   "id": "b59b34af",
   "metadata": {},
   "source": [
    "###편집모드에서의 단축키"
   ]
  },
  {
   "cell_type": "markdown",
   "id": "a7f48429",
   "metadata": {},
   "source": [
    "esc, ctrl+m : 편집모드에서 명령모드 \n",
    "[enter] : 명령모드에서 편집모드로\n",
    "[명령모드에서]\n",
    "[shift]+[m] : 여러 셀이 한 셀로 병합\n",
    "\n",
    "[a]:위에 셀 추가\n",
    "[b]:아래에 셀 추가\n",
    "[dd]:셀 삭제"
   ]
  },
  {
   "cell_type": "markdown",
   "id": "7a9081c8",
   "metadata": {},
   "source": [
    "###편집모드에서 단축키"
   ]
  },
  {
   "cell_type": "markdown",
   "id": "48afa73b",
   "metadata": {},
   "source": [
    "[ctrl] + z : 실행 취소\n",
    "[ctrl] + a : 전체 선택\n",
    "[ctrl] + y : 선택된 셀 내 다시 실행\n",
    "[ctrl] + / : 주석 부여\n",
    "[ctrl] + [shift] + [-] : 셀 나누기"
   ]
  },
  {
   "cell_type": "markdown",
   "id": "32be1362",
   "metadata": {},
   "source": [
    "###code편집 내 실행"
   ]
  },
  {
   "cell_type": "code",
   "execution_count": null,
   "id": "f32c0465",
   "metadata": {},
   "outputs": [],
   "source": [
    "print('Jupyter notebook')"
   ]
  },
  {
   "cell_type": "code",
   "execution_count": null,
   "id": "3aa8374f",
   "metadata": {},
   "outputs": [],
   "source": [
    "help(sorted)"
   ]
  },
  {
   "cell_type": "code",
   "execution_count": null,
   "id": "89a3de38",
   "metadata": {},
   "outputs": [],
   "source": []
  },
  {
   "cell_type": "code",
   "execution_count": null,
   "id": "69c0bde6",
   "metadata": {},
   "outputs": [],
   "source": []
  },
  {
   "cell_type": "code",
   "execution_count": 6,
   "id": "2ec829a7",
   "metadata": {
    "scrolled": true
   },
   "outputs": [
    {
     "name": "stdout",
     "output_type": "stream",
     "text": [
      "Jupyter notebook\n",
      "3\n",
      "Lee\n"
     ]
    }
   ],
   "source": [
    "print(1+2)\n",
    "print('Lee')"
   ]
  }
 ],
 "metadata": {
  "kernelspec": {
   "display_name": "Python 3 (ipykernel)",
   "language": "python",
   "name": "python3"
  },
  "language_info": {
   "codemirror_mode": {
    "name": "ipython",
    "version": 3
   },
   "file_extension": ".py",
   "mimetype": "text/x-python",
   "name": "python",
   "nbconvert_exporter": "python",
   "pygments_lexer": "ipython3",
   "version": "3.9.13"
  }
 },
 "nbformat": 4,
 "nbformat_minor": 5
}
